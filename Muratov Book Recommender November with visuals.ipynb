{
 "cells": [
  {
   "cell_type": "markdown",
   "metadata": {},
   "source": [
    "# Alexander Muratov's Book Recommdner\n",
    "\n",
    "I have often wondered why Goodreads, Amazon, and Audible just don't really do a good job in figuring out which books to recommend to me. Perhaps books are a little too personal and situational compared to movies and music. You invest much more time, and often can't boil down your review to just a number. How can you put a work of classic literature alongside a fun comic book? \n",
    "\n",
    "But I decided that I would give it a shot anyway. I decided to try the collaborative filtering algorithm I learned in Andrew Ng's coursera Machine Learning course on a public book rating dataset, and see what I get. Perhaps it would give me some cool ideas for what I should be reading, or at least help me see the challenges in solving this problem.\n",
    "\n",
    "\n",
    "## Using data from  Book-Crossing Dataset \n",
    "http://www2.informatik.uni-freiburg.de/~cziegler/BX/"
   ]
  },
  {
   "cell_type": "markdown",
   "metadata": {},
   "source": [
    "# Step 1. Data Cleaning \n",
    "Here, I am going to take the original raw data files and pull out only the information I need to build my recommender system.\n",
    "The code presented here is a significantly streamlined version of the first time I actually tried to explore this data. "
   ]
  },
  {
   "cell_type": "code",
   "execution_count": 15,
   "metadata": {
    "collapsed": true
   },
   "outputs": [],
   "source": [
    "import pandas as pd\n",
    "import numpy as np\n",
    "\n",
    "#first CSV file gives ratings for users for books by code number, but no titles\n",
    "data = pd.read_csv(\"BookData_A/BX-Book-Ratings.csv\", encoding='latin-1', sep=';')\n"
   ]
  },
  {
   "cell_type": "code",
   "execution_count": 16,
   "metadata": {
    "collapsed": false
   },
   "outputs": [
    {
     "name": "stderr",
     "output_type": "stream",
     "text": [
      "b'Skipping line 6452: expected 8 fields, saw 9\\nSkipping line 43667: expected 8 fields, saw 10\\nSkipping line 51751: expected 8 fields, saw 9\\n'\n",
      "b'Skipping line 92038: expected 8 fields, saw 9\\nSkipping line 104319: expected 8 fields, saw 9\\nSkipping line 121768: expected 8 fields, saw 9\\n'\n",
      "b'Skipping line 144058: expected 8 fields, saw 9\\nSkipping line 150789: expected 8 fields, saw 9\\nSkipping line 157128: expected 8 fields, saw 9\\nSkipping line 180189: expected 8 fields, saw 9\\nSkipping line 185738: expected 8 fields, saw 9\\n'\n",
      "b'Skipping line 209388: expected 8 fields, saw 9\\nSkipping line 220626: expected 8 fields, saw 9\\nSkipping line 227933: expected 8 fields, saw 11\\nSkipping line 228957: expected 8 fields, saw 10\\nSkipping line 245933: expected 8 fields, saw 9\\nSkipping line 251296: expected 8 fields, saw 9\\nSkipping line 259941: expected 8 fields, saw 9\\nSkipping line 261529: expected 8 fields, saw 9\\n'\n",
      "C:\\Users\\Alejandro\\Anaconda3\\lib\\site-packages\\IPython\\core\\interactiveshell.py:2723: DtypeWarning: Columns (3) have mixed types. Specify dtype option on import or set low_memory=False.\n",
      "  interactivity=interactivity, compiler=compiler, result=result)\n"
     ]
    }
   ],
   "source": [
    "#second CSV file gives book titles. Some of the titles have weird characters, so it must be read with latin-1 encoding\n",
    "#This was a painful thing to figure out. \n",
    "bookdata = pd.read_csv(\"BookData_A/BX-Books.csv\", encoding='latin-1', sep=';',error_bad_lines=False) \n"
   ]
  },
  {
   "cell_type": "code",
   "execution_count": 17,
   "metadata": {
    "collapsed": false
   },
   "outputs": [
    {
     "data": {
      "text/html": [
       "<div>\n",
       "<table border=\"1\" class=\"dataframe\">\n",
       "  <thead>\n",
       "    <tr style=\"text-align: right;\">\n",
       "      <th></th>\n",
       "      <th>User-ID</th>\n",
       "      <th>ISBN</th>\n",
       "      <th>Book-Rating</th>\n",
       "      <th>Book-Title</th>\n",
       "      <th>Book-Author</th>\n",
       "      <th>Year-Of-Publication</th>\n",
       "      <th>Publisher</th>\n",
       "      <th>Image-URL-S</th>\n",
       "      <th>Image-URL-M</th>\n",
       "      <th>Image-URL-L</th>\n",
       "    </tr>\n",
       "  </thead>\n",
       "  <tbody>\n",
       "    <tr>\n",
       "      <th>1</th>\n",
       "      <td>276726</td>\n",
       "      <td>0155061224</td>\n",
       "      <td>5</td>\n",
       "      <td>Rites of Passage</td>\n",
       "      <td>Judith Rae</td>\n",
       "      <td>2001</td>\n",
       "      <td>Heinle</td>\n",
       "      <td>http://images.amazon.com/images/P/0155061224.0...</td>\n",
       "      <td>http://images.amazon.com/images/P/0155061224.0...</td>\n",
       "      <td>http://images.amazon.com/images/P/0155061224.0...</td>\n",
       "    </tr>\n",
       "    <tr>\n",
       "      <th>3</th>\n",
       "      <td>276729</td>\n",
       "      <td>052165615X</td>\n",
       "      <td>3</td>\n",
       "      <td>Help!: Level 1</td>\n",
       "      <td>Philip Prowse</td>\n",
       "      <td>1999</td>\n",
       "      <td>Cambridge University Press</td>\n",
       "      <td>http://images.amazon.com/images/P/052165615X.0...</td>\n",
       "      <td>http://images.amazon.com/images/P/052165615X.0...</td>\n",
       "      <td>http://images.amazon.com/images/P/052165615X.0...</td>\n",
       "    </tr>\n",
       "    <tr>\n",
       "      <th>4</th>\n",
       "      <td>276729</td>\n",
       "      <td>0521795028</td>\n",
       "      <td>6</td>\n",
       "      <td>The Amsterdam Connection : Level 4 (Cambridge ...</td>\n",
       "      <td>Sue Leather</td>\n",
       "      <td>2001</td>\n",
       "      <td>Cambridge University Press</td>\n",
       "      <td>http://images.amazon.com/images/P/0521795028.0...</td>\n",
       "      <td>http://images.amazon.com/images/P/0521795028.0...</td>\n",
       "      <td>http://images.amazon.com/images/P/0521795028.0...</td>\n",
       "    </tr>\n",
       "    <tr>\n",
       "      <th>8</th>\n",
       "      <td>276744</td>\n",
       "      <td>038550120X</td>\n",
       "      <td>7</td>\n",
       "      <td>A Painted House</td>\n",
       "      <td>JOHN GRISHAM</td>\n",
       "      <td>2001</td>\n",
       "      <td>Doubleday</td>\n",
       "      <td>http://images.amazon.com/images/P/038550120X.0...</td>\n",
       "      <td>http://images.amazon.com/images/P/038550120X.0...</td>\n",
       "      <td>http://images.amazon.com/images/P/038550120X.0...</td>\n",
       "    </tr>\n",
       "    <tr>\n",
       "      <th>16</th>\n",
       "      <td>276747</td>\n",
       "      <td>0060517794</td>\n",
       "      <td>9</td>\n",
       "      <td>Little Altars Everywhere</td>\n",
       "      <td>Rebecca Wells</td>\n",
       "      <td>2003</td>\n",
       "      <td>HarperTorch</td>\n",
       "      <td>http://images.amazon.com/images/P/0060517794.0...</td>\n",
       "      <td>http://images.amazon.com/images/P/0060517794.0...</td>\n",
       "      <td>http://images.amazon.com/images/P/0060517794.0...</td>\n",
       "    </tr>\n",
       "  </tbody>\n",
       "</table>\n",
       "</div>"
      ],
      "text/plain": [
       "    User-ID        ISBN  Book-Rating  \\\n",
       "1    276726  0155061224            5   \n",
       "3    276729  052165615X            3   \n",
       "4    276729  0521795028            6   \n",
       "8    276744  038550120X            7   \n",
       "16   276747  0060517794            9   \n",
       "\n",
       "                                           Book-Title    Book-Author  \\\n",
       "1                                    Rites of Passage     Judith Rae   \n",
       "3                                      Help!: Level 1  Philip Prowse   \n",
       "4   The Amsterdam Connection : Level 4 (Cambridge ...    Sue Leather   \n",
       "8                                     A Painted House   JOHN GRISHAM   \n",
       "16                           Little Altars Everywhere  Rebecca Wells   \n",
       "\n",
       "   Year-Of-Publication                   Publisher  \\\n",
       "1                 2001                      Heinle   \n",
       "3                 1999  Cambridge University Press   \n",
       "4                 2001  Cambridge University Press   \n",
       "8                 2001                   Doubleday   \n",
       "16                2003                 HarperTorch   \n",
       "\n",
       "                                          Image-URL-S  \\\n",
       "1   http://images.amazon.com/images/P/0155061224.0...   \n",
       "3   http://images.amazon.com/images/P/052165615X.0...   \n",
       "4   http://images.amazon.com/images/P/0521795028.0...   \n",
       "8   http://images.amazon.com/images/P/038550120X.0...   \n",
       "16  http://images.amazon.com/images/P/0060517794.0...   \n",
       "\n",
       "                                          Image-URL-M  \\\n",
       "1   http://images.amazon.com/images/P/0155061224.0...   \n",
       "3   http://images.amazon.com/images/P/052165615X.0...   \n",
       "4   http://images.amazon.com/images/P/0521795028.0...   \n",
       "8   http://images.amazon.com/images/P/038550120X.0...   \n",
       "16  http://images.amazon.com/images/P/0060517794.0...   \n",
       "\n",
       "                                          Image-URL-L  \n",
       "1   http://images.amazon.com/images/P/0155061224.0...  \n",
       "3   http://images.amazon.com/images/P/052165615X.0...  \n",
       "4   http://images.amazon.com/images/P/0521795028.0...  \n",
       "8   http://images.amazon.com/images/P/038550120X.0...  \n",
       "16  http://images.amazon.com/images/P/0060517794.0...  "
      ]
     },
     "execution_count": 17,
     "metadata": {},
     "output_type": "execute_result"
    }
   ],
   "source": [
    "#Merging the two CSV files to get a catalog with book titles and ratings \n",
    "catalog = data.merge(bookdata, on='ISBN', how='left')\n",
    "\n",
    "#Getting rid of non-reviews - entries with a rating of 0\n",
    "#also getting rid of book titles that are NULL value.\n",
    "reduced_catalog = catalog[(catalog['Book-Rating']>0) & (catalog['Book-Title'].notnull())]\n",
    "\n",
    "\n",
    "#check to make sure catalog looks ok\n",
    "reduced_catalog.head(5)"
   ]
  },
  {
   "cell_type": "code",
   "execution_count": 18,
   "metadata": {
    "collapsed": false
   },
   "outputs": [
    {
     "data": {
      "text/plain": [
       "Index(['The Lovely Bones: A Novel', 'Wild Animus', 'The Da Vinci Code',\n",
       "       'The Secret Life of Bees', 'The Nanny Diaries: A Novel'],\n",
       "      dtype='object')"
      ]
     },
     "execution_count": 18,
     "metadata": {},
     "output_type": "execute_result"
    }
   ],
   "source": [
    "mycounts = reduced_catalog[\"Book-Title\"].value_counts()\n",
    "mycounts.index[0:5]"
   ]
  },
  {
   "cell_type": "code",
   "execution_count": 19,
   "metadata": {
    "collapsed": false
   },
   "outputs": [
    {
     "data": {
      "text/plain": [
       "Index(['The Lovely Bones: A Novel', 'Wild Animus', 'The Da Vinci Code',\n",
       "       'The Secret Life of Bees', 'The Nanny Diaries: A Novel'],\n",
       "      dtype='object')"
      ]
     },
     "execution_count": 19,
     "metadata": {},
     "output_type": "execute_result"
    }
   ],
   "source": [
    "#looks good. Now lets figure out which books are the ones that are reviewed most often to feed to the recommender system \n",
    "\n",
    "#lets start with a catalog of 1000 most reviewed books\n",
    "num_top_books = 1000\n",
    "\n",
    "countsorted_reviewed_books =  reduced_catalog[\"Book-Title\"].value_counts()\n",
    "most_reviewedbooks = countsorted_reviewed_books.index[0:num_top_books]\n",
    "most_reviewed_bookcounts = countsorted_reviewed_books.values[0:num_top_books]\n",
    "most_reviewedbooks[0:5]"
   ]
  },
  {
   "cell_type": "code",
   "execution_count": 20,
   "metadata": {
    "collapsed": false
   },
   "outputs": [
    {
     "data": {
      "text/plain": [
       "array([707, 581, 494, 406, 393], dtype=int64)"
      ]
     },
     "execution_count": 20,
     "metadata": {},
     "output_type": "execute_result"
    }
   ],
   "source": [
    "most_reviewed_bookcounts[0:5]"
   ]
  },
  {
   "cell_type": "code",
   "execution_count": 21,
   "metadata": {
    "collapsed": false
   },
   "outputs": [
    {
     "data": {
      "text/plain": [
       "Index(['Man and Boy: A Novel',\n",
       "       'Forever... : A Novel of Good and Evil, Love and Hope',\n",
       "       'Rush Limbaugh Is a Big Fat Idiot: And Other Observations',\n",
       "       'The Time Traveler's Wife (Today Show Book Club #15)', 'Anthem',\n",
       "       'Reunion in Death', 'Revenge of the Middle-Aged Woman',\n",
       "       'Princess: A True Story of Life Behind the Veil in Saudi Arabia',\n",
       "       'Space',\n",
       "       'The Claiming of Sleeping Beauty (Erotic Adventures of Sleeping Beauty)',\n",
       "       'Fear and Loathing in Las Vegas : A Savage Journey to the Heart of the American Dream',\n",
       "       'Lake Wobegon Days', 'Whisper of Evil (Hooper, Kay. Evil Trilogy.)',\n",
       "       'The Tortilla Curtain', 'Ransom', 'Personal Injuries', 'My Antonia',\n",
       "       'The Cat Who Brought Down the House', 'Snow Crash', 'Moment of Truth',\n",
       "       'Bookends : A Novel', 'Russendisko.',\n",
       "       'Uh-Oh: Some Observations from Both Sides of the Refrigerator Door',\n",
       "       'If Looks Could Kill'],\n",
       "      dtype='object')"
      ]
     },
     "execution_count": 21,
     "metadata": {},
     "output_type": "execute_result"
    }
   ],
   "source": [
    "#lets also make sure that the ones at the bottom of the list have enough reviews\n",
    "most_reviewedbooks[-25:-1]"
   ]
  },
  {
   "cell_type": "code",
   "execution_count": 22,
   "metadata": {
    "collapsed": false
   },
   "outputs": [
    {
     "data": {
      "text/plain": [
       "array([36, 36, 36, 36, 36, 36, 36, 36, 36, 36, 36, 36, 36, 36], dtype=int64)"
      ]
     },
     "execution_count": 22,
     "metadata": {},
     "output_type": "execute_result"
    }
   ],
   "source": [
    "most_reviewed_bookcounts[-15:-1]"
   ]
  },
  {
   "cell_type": "code",
   "execution_count": 23,
   "metadata": {
    "collapsed": true
   },
   "outputs": [],
   "source": [
    "#not bad. Seems like it will be a robust list\n",
    "#because I am still not totally used to working with dataframes and my algorithm is designed for simple matrices and arrays\n",
    "#I am going to start migrating some stuff to arrays now\n",
    "titles = np.array( most_reviewedbooks)\n",
    "\n",
    "#if someone wants to review the books themselves, uncomment to save text file\n",
    "#np.savetxt(\"top_book_titles.txt\",titles, fmt='%s')"
   ]
  },
  {
   "cell_type": "code",
   "execution_count": 24,
   "metadata": {
    "collapsed": false
   },
   "outputs": [],
   "source": [
    "#reducing the dataframe to only contain data for top X books\n",
    "\n",
    "further_reduced_catalogCut = reduced_catalog[\"Book-Title\"].isin(titles)\n",
    "further_reduced_catalog = reduced_catalog[further_reduced_catalogCut]"
   ]
  },
  {
   "cell_type": "code",
   "execution_count": 25,
   "metadata": {
    "collapsed": false
   },
   "outputs": [
    {
     "data": {
      "text/plain": [
       "(1269,)"
      ]
     },
     "execution_count": 25,
     "metadata": {},
     "output_type": "execute_result"
    }
   ],
   "source": [
    "#now lets get a set of the most active reviewers \n",
    "\n",
    "reviewingusers =  further_reduced_catalog[\"User-ID\"].value_counts()\n",
    "\n",
    "#i don't want any reviewers with fewer than 10 reviews.\n",
    "top_users = reviewingusers[reviewingusers.values>10]\n",
    "book_reviewers = np.array(top_users.index)\n",
    "book_reviewers.shape"
   ]
  },
  {
   "cell_type": "code",
   "execution_count": 26,
   "metadata": {
    "collapsed": true
   },
   "outputs": [],
   "source": [
    "#I'm going to subddivide users into a test set and training set.\n",
    "#as of now I am not actually doing this step, but if I wanted  to validate the recommender system,\n",
    "#I would use only 70% of the data t otrain the model, and the other 30% to test. \n",
    "use_set = np.random.rand(top_users.shape[0]) > 0.7 \n",
    "test_set = np.invert(use_set)\n"
   ]
  },
  {
   "cell_type": "code",
   "execution_count": 27,
   "metadata": {
    "collapsed": false
   },
   "outputs": [
    {
     "data": {
      "text/html": [
       "<div>\n",
       "<table border=\"1\" class=\"dataframe\">\n",
       "  <thead>\n",
       "    <tr style=\"text-align: right;\">\n",
       "      <th></th>\n",
       "      <th>User-ID</th>\n",
       "      <th>ISBN</th>\n",
       "      <th>Book-Rating</th>\n",
       "      <th>Book-Title</th>\n",
       "      <th>Book-Author</th>\n",
       "      <th>Year-Of-Publication</th>\n",
       "      <th>Publisher</th>\n",
       "      <th>Image-URL-S</th>\n",
       "      <th>Image-URL-M</th>\n",
       "      <th>Image-URL-L</th>\n",
       "    </tr>\n",
       "  </thead>\n",
       "  <tbody>\n",
       "    <tr>\n",
       "      <th>1456</th>\n",
       "      <td>277427</td>\n",
       "      <td>002542730X</td>\n",
       "      <td>10</td>\n",
       "      <td>Politically Correct Bedtime Stories: Modern Ta...</td>\n",
       "      <td>James Finn Garner</td>\n",
       "      <td>1994</td>\n",
       "      <td>John Wiley &amp;amp; Sons Inc</td>\n",
       "      <td>http://images.amazon.com/images/P/002542730X.0...</td>\n",
       "      <td>http://images.amazon.com/images/P/002542730X.0...</td>\n",
       "      <td>http://images.amazon.com/images/P/002542730X.0...</td>\n",
       "    </tr>\n",
       "    <tr>\n",
       "      <th>1474</th>\n",
       "      <td>277427</td>\n",
       "      <td>0061009059</td>\n",
       "      <td>9</td>\n",
       "      <td>One for the Money (Stephanie Plum Novels (Pape...</td>\n",
       "      <td>Janet Evanovich</td>\n",
       "      <td>1995</td>\n",
       "      <td>HarperTorch</td>\n",
       "      <td>http://images.amazon.com/images/P/0061009059.0...</td>\n",
       "      <td>http://images.amazon.com/images/P/0061009059.0...</td>\n",
       "      <td>http://images.amazon.com/images/P/0061009059.0...</td>\n",
       "    </tr>\n",
       "    <tr>\n",
       "      <th>1522</th>\n",
       "      <td>277427</td>\n",
       "      <td>0316776963</td>\n",
       "      <td>8</td>\n",
       "      <td>Me Talk Pretty One Day</td>\n",
       "      <td>David Sedaris</td>\n",
       "      <td>2001</td>\n",
       "      <td>Back Bay Books</td>\n",
       "      <td>http://images.amazon.com/images/P/0316776963.0...</td>\n",
       "      <td>http://images.amazon.com/images/P/0316776963.0...</td>\n",
       "      <td>http://images.amazon.com/images/P/0316776963.0...</td>\n",
       "    </tr>\n",
       "    <tr>\n",
       "      <th>1543</th>\n",
       "      <td>277427</td>\n",
       "      <td>0345413903</td>\n",
       "      <td>10</td>\n",
       "      <td>The Murder Book</td>\n",
       "      <td>Jonathan Kellerman</td>\n",
       "      <td>2003</td>\n",
       "      <td>Ballantine Books</td>\n",
       "      <td>http://images.amazon.com/images/P/0345413903.0...</td>\n",
       "      <td>http://images.amazon.com/images/P/0345413903.0...</td>\n",
       "      <td>http://images.amazon.com/images/P/0345413903.0...</td>\n",
       "    </tr>\n",
       "    <tr>\n",
       "      <th>1578</th>\n",
       "      <td>277427</td>\n",
       "      <td>0385424736</td>\n",
       "      <td>9</td>\n",
       "      <td>The Rainmaker</td>\n",
       "      <td>John Grisham</td>\n",
       "      <td>1995</td>\n",
       "      <td>Doubleday Books</td>\n",
       "      <td>http://images.amazon.com/images/P/0385424736.0...</td>\n",
       "      <td>http://images.amazon.com/images/P/0385424736.0...</td>\n",
       "      <td>http://images.amazon.com/images/P/0385424736.0...</td>\n",
       "    </tr>\n",
       "  </tbody>\n",
       "</table>\n",
       "</div>"
      ],
      "text/plain": [
       "      User-ID        ISBN  Book-Rating  \\\n",
       "1456   277427  002542730X           10   \n",
       "1474   277427  0061009059            9   \n",
       "1522   277427  0316776963            8   \n",
       "1543   277427  0345413903           10   \n",
       "1578   277427  0385424736            9   \n",
       "\n",
       "                                             Book-Title         Book-Author  \\\n",
       "1456  Politically Correct Bedtime Stories: Modern Ta...   James Finn Garner   \n",
       "1474  One for the Money (Stephanie Plum Novels (Pape...     Janet Evanovich   \n",
       "1522                             Me Talk Pretty One Day       David Sedaris   \n",
       "1543                                    The Murder Book  Jonathan Kellerman   \n",
       "1578                                      The Rainmaker        John Grisham   \n",
       "\n",
       "     Year-Of-Publication                  Publisher  \\\n",
       "1456                1994  John Wiley &amp; Sons Inc   \n",
       "1474                1995                HarperTorch   \n",
       "1522                2001             Back Bay Books   \n",
       "1543                2003           Ballantine Books   \n",
       "1578                1995            Doubleday Books   \n",
       "\n",
       "                                            Image-URL-S  \\\n",
       "1456  http://images.amazon.com/images/P/002542730X.0...   \n",
       "1474  http://images.amazon.com/images/P/0061009059.0...   \n",
       "1522  http://images.amazon.com/images/P/0316776963.0...   \n",
       "1543  http://images.amazon.com/images/P/0345413903.0...   \n",
       "1578  http://images.amazon.com/images/P/0385424736.0...   \n",
       "\n",
       "                                            Image-URL-M  \\\n",
       "1456  http://images.amazon.com/images/P/002542730X.0...   \n",
       "1474  http://images.amazon.com/images/P/0061009059.0...   \n",
       "1522  http://images.amazon.com/images/P/0316776963.0...   \n",
       "1543  http://images.amazon.com/images/P/0345413903.0...   \n",
       "1578  http://images.amazon.com/images/P/0385424736.0...   \n",
       "\n",
       "                                            Image-URL-L  \n",
       "1456  http://images.amazon.com/images/P/002542730X.0...  \n",
       "1474  http://images.amazon.com/images/P/0061009059.0...  \n",
       "1522  http://images.amazon.com/images/P/0316776963.0...  \n",
       "1543  http://images.amazon.com/images/P/0345413903.0...  \n",
       "1578  http://images.amazon.com/images/P/0385424736.0...  "
      ]
     },
     "execution_count": 27,
     "metadata": {},
     "output_type": "execute_result"
    }
   ],
   "source": [
    "#so 1266 users for 1000 books. Seems like a reasonable final dataset.\n",
    "#time to make final cuts on the catalog\n",
    "final_further_reduced_catalogCut = further_reduced_catalog[\"User-ID\"].isin(book_reviewers)\n",
    "final_further_reduced_catalog = further_reduced_catalog[final_further_reduced_catalogCut]\n",
    "final_further_reduced_catalog.head(5)\n",
    "\n"
   ]
  },
  {
   "cell_type": "code",
   "execution_count": 28,
   "metadata": {
    "collapsed": false
   },
   "outputs": [
    {
     "data": {
      "text/plain": [
       "0.019777016119494895"
      ]
     },
     "execution_count": 28,
     "metadata": {},
     "output_type": "execute_result"
    }
   ],
   "source": [
    "np.random.rand(1)[0]"
   ]
  },
  {
   "cell_type": "markdown",
   "metadata": {},
   "source": [
    "# Step 2. Setting up collaborative filtering\n",
    "Here, I build a collaborative filtering recommendation system for the book reviews that is based on an assignment from the Stanford Machine Learning Coursera. In that case, prepared film data from IMDB was used. Interestingly, I tracked down several bugs and flaws in the code developed for the assignment and fixed them in this implementation. Will note when applicable."
   ]
  },
  {
   "cell_type": "code",
   "execution_count": null,
   "metadata": {
    "collapsed": true
   },
   "outputs": [],
   "source": []
  },
  {
   "cell_type": "code",
   "execution_count": 29,
   "metadata": {
    "collapsed": false
   },
   "outputs": [
    {
     "name": "stdout",
     "output_type": "stream",
     "text": [
      "(1000, 1269)\n"
     ]
    }
   ],
   "source": [
    "#at this point, I am going to translate all the reviews in this catalog into a simple matrix containg reviews per user.\n",
    "#i am going to use a simple numpy matrix since the remainder of my code is prepared for such a use.\n",
    "# in the future, I will try to stick only  to Pandas framework\n",
    "#titles = np.array(most_reviewedbooks[\"Book-Title\"])\n",
    "Y = np.zeros((len(titles), len(book_reviewers)))\n",
    "print(Y.shape)\n",
    "num_books = Y.shape[0]\n"
   ]
  },
  {
   "cell_type": "code",
   "execution_count": 30,
   "metadata": {
    "collapsed": false
   },
   "outputs": [],
   "source": [
    "#now we go through the final catalog line by line and fill in the elements of Y.\n",
    "#this is embarrasing and I'm sure there's a more efficient way to do this, but it's not too slow computationally for this dataset\n",
    "count = 0\n",
    "for row in final_further_reduced_catalog.values:\n",
    "    title_index = np.where(titles==row[3])[0][0]\n",
    "    user_index = np.where(book_reviewers==row[0])[0][0]   \n",
    "    Y[title_index][user_index]=row[2]\n",
    "    count+=1"
   ]
  },
  {
   "cell_type": "markdown",
   "metadata": {},
   "source": [
    "Insert some additional user input. I personally went through the list of books and rated some.\n"
   ]
  },
  {
   "cell_type": "code",
   "execution_count": 31,
   "metadata": {
    "collapsed": false
   },
   "outputs": [
    {
     "name": "stdout",
     "output_type": "stream",
     "text": [
      "I assigned this book:  The Da Vinci Code              \n",
      " This rating:  1\n",
      "I assigned this book:  The Nanny Diaries: A Novel        \n",
      " This rating:  1\n",
      "I assigned this book:  Harry Potter and the Chamber of Secrets (Book 2)              \n",
      " This rating:  5\n",
      "I assigned this book:  Harry Potter and the Sorcerer's Stone (Harry Potter (Paperback))           \n",
      " This rating:  5\n",
      "I assigned this book:  Angels &amp; Demons            \n",
      " This rating:  1\n",
      "I assigned this book:  Harry Potter and the Prisoner of Azkaban (Book 3)              \n",
      " This rating:  5\n",
      "I assigned this book:  Harry Potter and the Goblet of Fire (Book 4)               \n",
      " This rating:  5\n",
      "I assigned this book:  Harry Potter and the Order of the Phoenix (Book 5)                \n",
      " This rating:  5\n",
      "I assigned this book:  The Fellowship of the Ring (The Lord of the Rings, Part 1)              \n",
      " This rating:  8\n",
      "I assigned this book:  The Golden Compass (His Dark Materials, Book 1)                      \n",
      " This rating:  8\n",
      "I assigned this book:  American Gods                                     \n",
      " This rating:  8\n",
      "I assigned this book:  The Cider House Rules                            \n",
      " This rating:  8\n",
      "I assigned this book:  1984                                 \n",
      " This rating:  9\n",
      "I assigned this book:  The Handmaid's Tale                                 \n",
      " This rating:  7\n",
      "I assigned this book:  Animal Farm                                 \n",
      " This rating:  9\n",
      "I assigned this book:  The Subtle Knife (His Dark Materials, Book 2)                      \n",
      " This rating:  7\n",
      "I assigned this book:  The Little Prince                         \n",
      " This rating:  9\n",
      "I assigned this book:  Slaughterhouse Five or the Children's Crusade: A Duty Dance With Death                           \n",
      " This rating:  10\n",
      "I assigned this book:  Neuromancer (Remembering Tomorrow)                          \n",
      " This rating:  8\n",
      "I assigned this book:  Dune (Remembering Tomorrow)                             \n",
      " This rating:  8\n",
      "I assigned this book:  Atlas Shrugged                     \n",
      " This rating:  1\n",
      "I assigned this book:  Cat's Cradle                         \n",
      " This rating:  10\n",
      "I assigned this book:  The Stranger                            \n",
      " This rating:  9\n",
      "I assigned this book:  A Game of Thrones (A Song of Ice and Fire, Book 1)                   \n",
      " This rating:  8\n"
     ]
    }
   ],
   "source": [
    "#creating an extra column for the Y matrix \n",
    "my_ratings = np.zeros(num_books)\n",
    "#opening text file. This text file has the 1000 most reviewed books. One book per row.\n",
    "#For each book I rated, I assign a numerical score at the end of the line.\n",
    "ratings_file = open('sasha_top_books.txt')\n",
    "rating_lines = ratings_file.readlines()\n",
    "index_ratings_ar = []\n",
    "ratings_ar = []\n",
    "\n",
    "#I will use regular expression to tease out the books that have been rated.\n",
    "import re\n",
    "\n",
    "for line in rating_lines:\n",
    "    #look for all lines that end with a 1-2 digit number, and then a newline character\n",
    "    rating = re.findall('\\d+', line[-3:])\n",
    "    if (len(rating)>0):\n",
    "        rating_value = int(rating[0])\n",
    "        \n",
    "        #is the rating one or two characters?\n",
    "        if (rating_value>=10):\n",
    "            stripped_line = line[0:-3]\n",
    "        else:\n",
    "            stripped_line = line[0:-2]\n",
    "        \n",
    "        #now lets get rid of the rating and only keep the title\n",
    "        extra_stripped_line = stripped_line.strip()\n",
    "        \n",
    "        #make sure this title matches one in our list. also find the index. \n",
    "        rating_index = np.where(titles==extra_stripped_line)\n",
    "        if len(rating_index[0])>0:\n",
    "            index_ratings_ar.append(rating_index[0][0])\n",
    "            ratings_ar.append(rating_value)\n",
    "            print ('I assigned this book: ', stripped_line,'\\n This rating: ',rating_value)\n",
    "\n",
    "#now assigning the reviews to our column vector\n",
    "count = 0\n",
    "while (count<len(index_ratings_ar)):\n",
    "    my_ratings[index_ratings_ar[count]]=ratings_ar[count]\n",
    "    count+=1\n",
    "    \n",
    "Y = np.column_stack((my_ratings,Y))\n"
   ]
  },
  {
   "cell_type": "code",
   "execution_count": 32,
   "metadata": {
    "collapsed": false
   },
   "outputs": [],
   "source": [
    "#the algorithm uses a second matrix R to tell if a given book has been reviewed by a given user\n",
    "R = Y>0\n",
    "num_users = Y.shape[1]\n",
    "num_books = Y.shape[0]"
   ]
  },
  {
   "cell_type": "code",
   "execution_count": 33,
   "metadata": {
    "collapsed": true
   },
   "outputs": [],
   "source": [
    "#now setting some parameters for the collaborative filtering\n",
    "#original Coursera version had 10 features, but I find better fits with 20. \n",
    "#lambda is the regularization parameter. 10 seems to work well\n",
    "#prefactor is an extra weight for the random seed. \n",
    "prefactor = 1\n",
    "my_lambda = 10.0\n",
    "num_features = 20\n"
   ]
  },
  {
   "cell_type": "code",
   "execution_count": 34,
   "metadata": {
    "collapsed": true
   },
   "outputs": [],
   "source": [
    "#do-penalties - we don't want the recommender to get fooled by books that have a high mean score\n",
    "#after it's been reviewed by only a single user. This is an element I added to the system to improve upon the quality of \n",
    "#recommendations given\n",
    "\n",
    "do_penalties = True"
   ]
  },
  {
   "cell_type": "code",
   "execution_count": 35,
   "metadata": {
    "collapsed": true
   },
   "outputs": [],
   "source": [
    "#normalization function  that also returns mean score of each book and total number of reviews \n",
    "#for each book. \n",
    "#the algorithm works better when the scores are normalized (distance from mean)\n",
    "def normalizeY(YM):\n",
    "    cooper = np.copy(YM)\n",
    "    themeans = []\n",
    "    thecounts = []\n",
    "    for arr in cooper:\n",
    "        cut = arr>0\n",
    "        themean = np.mean(arr[cut])\n",
    "        count = len(arr[cut])\n",
    "        themeans.append(themean)\n",
    "        thecounts.append(float(count))\n",
    "        arr[cut] = arr[cut] - themean\n",
    "    themeans = np.array(themeans)\n",
    "    thecounts = np.array(thecounts)\n",
    "    return [cooper, themeans,thecounts]\n"
   ]
  },
  {
   "cell_type": "code",
   "execution_count": 36,
   "metadata": {
    "collapsed": false
   },
   "outputs": [
    {
     "name": "stdout",
     "output_type": "stream",
     "text": [
      "mean count  28.633\n"
     ]
    }
   ],
   "source": [
    "#normalize the matrix, and find mean number of reviews per book\n",
    "#books that have fewer reviews than the mean will have their score weighted \n",
    "#so that it des not deviate too far form a \"neutral\" review \n",
    "\n",
    "[normY, themeans,thecounts] = normalizeY(Y)\n",
    "medcount = np.mean(thecounts)\n",
    "print('mean count ',medcount)\n",
    "\n"
   ]
  },
  {
   "cell_type": "code",
   "execution_count": 37,
   "metadata": {
    "collapsed": false
   },
   "outputs": [
    {
     "name": "stdout",
     "output_type": "stream",
     "text": [
      "1000 1270\n",
      "(1000, 20)\n",
      "(1270, 20)\n"
     ]
    }
   ],
   "source": [
    "#now we initialize matrices for books and users. Each element contains a score per feature.\n",
    "#The features themselves are basically free variables that will be solved for by the optimizer\n",
    "num_users = normY.shape[1]\n",
    "print(num_books,num_users)\n",
    "X= np.random.randn(num_books, num_features)*prefactor\n",
    "Theta = np.random.randn(num_users, num_features)*prefactor\n",
    "\n",
    "print(X.shape)\n",
    "print(Theta.shape)\n",
    "\n",
    "#unroll both matrices into a single array to be used by the optimizer\n",
    "intial_parameters_unrolled  = np.append(np.array(X).reshape(-1), np.array(Theta).reshape(-1))"
   ]
  },
  {
   "cell_type": "code",
   "execution_count": 38,
   "metadata": {
    "collapsed": true
   },
   "outputs": [],
   "source": [
    "#now we define the cost function and the gradient of the cost function\n",
    "#fully vectorized implementation\n",
    "def cost_function_matrix_reshape_J(params, theY, theR, num_users, num_books, num_features, the_lambda):\n",
    "    J = 0\n",
    "    #unroll the vector back into two feture matrices\n",
    "    X = params[0:(num_books*num_features)]\n",
    "    X = X.reshape(num_books, num_features)\n",
    "    Theta = params[(num_books*num_features):]\n",
    "    Theta = Theta.reshape(num_users, num_features)\n",
    "\n",
    "    #multiply the two feature matrices, and see how close they are to the target Y.\n",
    "    #cost function is the difference of squares. Only considering books that have actual ratings in Y.\n",
    "    J_sub1 = np.multiply((np.dot(X,Theta.transpose()) - theY), theR)\n",
    "    J = np.sum(np.multiply(J_sub1,J_sub1)) / 2.0\n",
    "\n",
    "    #add in regularization\n",
    "    J +=  the_lambda*np.sum(np.multiply(X,X))/2.0  + the_lambda*np.sum(np.multiply(Theta,Theta))/2.0 \n",
    "    print('current cost is ',J)\n",
    "\n",
    "    return J"
   ]
  },
  {
   "cell_type": "code",
   "execution_count": 39,
   "metadata": {
    "collapsed": true
   },
   "outputs": [],
   "source": [
    "#fully vectorized implimentation of cost function gradient\n",
    "def cost_function_matrix_reshape_grad(params, theY, R, num_users, num_books, num_features, the_lambda):\n",
    "\n",
    "    #unroll the vector back into two feture matrices\n",
    "    X = params[0:(num_books*num_features)]\n",
    "    X = X.reshape(num_books, num_features)\n",
    "    Theta = params[(num_books*num_features):]\n",
    "    Theta = Theta.reshape(num_users, num_features)\n",
    "    \n",
    "    #similar calculation to computing J\n",
    "    Grad_sub1 = np.dot(X,Theta.transpose())\n",
    "    Grad_sub2 = np.multiply(Grad_sub1, R)\n",
    "    Grad_sub3 = Grad_sub2 - theY\n",
    "    \n",
    "    #but now there's an extra step to compute the gradient by using the other feature matrix\n",
    "    X_grad = np.dot(Grad_sub3, Theta)\n",
    "    Theta_grad = np.dot(Grad_sub3.transpose(), X )\n",
    "    \n",
    "    #regularization step\n",
    "    X_grad += the_lambda*X\n",
    "    Theta_grad += the_lambda*Theta\n",
    "    \n",
    "    #return the results\n",
    "    return np.append(X_grad.reshape(-1), Theta_grad.reshape(-1))"
   ]
  },
  {
   "cell_type": "code",
   "execution_count": 40,
   "metadata": {
    "collapsed": false
   },
   "outputs": [
    {
     "name": "stdout",
     "output_type": "stream",
     "text": [
      "current cost is  563738.918594\n",
      "current cost is  2.70390159853e+13\n",
      "current cost is  18848584744.0\n",
      "current cost is  8596300.30983\n",
      "current cost is  241528.823506\n",
      "current cost is  349721.461762\n",
      "current cost is  158980.126026\n",
      "current cost is  149436.114767\n",
      "current cost is  130248.646001\n",
      "current cost is  103840.21184\n",
      "current cost is  98769.5305924\n",
      "current cost is  119701.757049\n",
      "current cost is  86272.6344527\n",
      "current cost is  71709.5841097\n",
      "current cost is  54053.3181025\n",
      "current cost is  39828.5326925\n",
      "current cost is  48088.8106938\n",
      "current cost is  35365.1831347\n",
      "current cost is  34995.2079221\n",
      "current cost is  33362.4909984\n",
      "current cost is  32430.4453175\n",
      "current cost is  32015.6643582\n",
      "current cost is  31400.5295403\n",
      "current cost is  31125.218004\n",
      "current cost is  31256.3039876\n",
      "current cost is  30685.7928844\n",
      "current cost is  30358.4970714\n",
      "current cost is  30796.4342595\n",
      "current cost is  30248.752044\n",
      "current cost is  30087.2628949\n",
      "current cost is  30041.767113\n",
      "current cost is  29836.1264617\n",
      "current cost is  29666.9709391\n",
      "current cost is  29744.25666\n",
      "current cost is  29597.432876\n",
      "current cost is  29525.4050778\n",
      "current cost is  29441.7980806\n",
      "current cost is  29347.2800281\n",
      "current cost is  29393.8206634\n",
      "current cost is  29307.65243\n",
      "current cost is  29256.44979\n",
      "current cost is  29248.7284899\n",
      "current cost is  29228.6847291\n",
      "current cost is  29221.4353732\n",
      "current cost is  29212.6607782\n",
      "current cost is  29187.9818072\n",
      "current cost is  29178.2011915\n",
      "current cost is  29139.2440965\n",
      "current cost is  29139.5207626\n",
      "current cost is  29119.5316544\n",
      "current cost is  29088.2950931\n",
      "current cost is  29075.1101883\n",
      "current cost is  29135.2930067\n",
      "current cost is  29061.7655179\n",
      "current cost is  29043.7438804\n",
      "current cost is  29057.4693901\n",
      "current cost is  29037.0920191\n",
      "current cost is  29029.1642765\n",
      "current cost is  29018.3467662\n",
      "current cost is  29025.1370674\n",
      "current cost is  29014.1728121\n",
      "current cost is  29007.4595948\n",
      "current cost is  29003.8284925\n",
      "current cost is  28994.113085\n",
      "current cost is  28984.1878317\n",
      "current cost is  28982.3165121\n",
      "current cost is  28978.6728917\n",
      "current cost is  28972.9088741\n",
      "current cost is  28964.3086203\n",
      "current cost is  28961.7499886\n",
      "current cost is  28958.8365371\n",
      "current cost is  28955.2878488\n",
      "current cost is  28945.1913593\n",
      "current cost is  28940.9913258\n",
      "current cost is  28957.0359199\n",
      "current cost is  28936.3300057\n",
      "current cost is  28929.3340752\n",
      "current cost is  28927.2184515\n",
      "current cost is  28926.3951645\n",
      "current cost is  28922.388579\n",
      "current cost is  28916.0546612\n",
      "current cost is  28917.7671133\n",
      "current cost is  28913.231251\n",
      "current cost is  28911.424615\n",
      "current cost is  28909.3865451\n",
      "current cost is  28906.6572389\n",
      "current cost is  28905.77524\n",
      "current cost is  28905.0178033\n",
      "current cost is  28905.298607\n",
      "current cost is  28904.2536838\n",
      "current cost is  28903.0261166\n",
      "current cost is  28902.372166\n",
      "current cost is  28899.3808723\n",
      "current cost is  28897.9312204\n",
      "current cost is  28890.2332253\n",
      "current cost is  28883.4083726\n",
      "current cost is  28933.8402784\n",
      "current cost is  28880.652248\n",
      "current cost is  28877.816577\n",
      "current cost is  28874.2227089\n",
      "current cost is  28872.587536\n",
      "current cost is  28871.8843726\n",
      "current cost is  28869.5007384\n",
      "current cost is  28867.6847158\n",
      "current cost is  28868.1565098\n",
      "current cost is  28866.8716624\n",
      "current cost is  28865.8454792\n",
      "current cost is  28866.5644953\n",
      "current cost is  28865.4607631\n",
      "current cost is  28864.9190981\n",
      "current cost is  28864.3167064\n",
      "current cost is  28863.6902335\n",
      "current cost is  28862.5633768\n",
      "current cost is  28860.8167934\n",
      "current cost is  28864.0284504\n",
      "current cost is  28859.8824813\n",
      "current cost is  28858.8557014\n",
      "current cost is  28857.5404594\n",
      "current cost is  28858.0042267\n",
      "current cost is  28856.9756541\n",
      "current cost is  28856.2188671\n",
      "current cost is  28856.4838215\n",
      "current cost is  28855.8931174\n",
      "current cost is  28855.4453047\n",
      "current cost is  28855.2870762\n",
      "current cost is  28855.17116\n",
      "current cost is  28854.7588388\n",
      "current cost is  28854.6299064\n",
      "current cost is  28854.1140953\n",
      "current cost is  28853.4571997\n",
      "current cost is  28854.4444639\n",
      "current cost is  28853.2671297\n",
      "current cost is  28853.0374024\n",
      "current cost is  28852.7108113\n",
      "current cost is  28852.6455467\n",
      "current cost is  28852.6018106\n",
      "current cost is  28852.4362239\n",
      "current cost is  28852.0913453\n",
      "current cost is  28851.861866\n",
      "current cost is  28850.9506077\n",
      "current cost is  28850.5176571\n",
      "current cost is  28848.3827605\n",
      "current cost is  28847.5459944\n",
      "current cost is  28847.6161005\n",
      "current cost is  28846.0303821\n",
      "current cost is  28847.534048\n",
      "current cost is  28845.5167874\n",
      "current cost is  28844.6374425\n",
      "current cost is  28843.8153975\n",
      "current cost is  28845.7135364\n",
      "current cost is  28843.2633213\n",
      "current cost is  28842.9396006\n",
      "current cost is  28842.8705013\n",
      "current cost is  28842.2988985\n",
      "current cost is  28842.1606849\n",
      "current cost is  28841.4821016\n",
      "current cost is  28841.1672158\n",
      "current cost is  28841.037534\n",
      "current cost is  28841.1998586\n",
      "current cost is  28840.8473207\n",
      "current cost is  28840.5444922\n",
      "current cost is  28840.3943262\n",
      "current cost is  28840.153369\n",
      "current cost is  28840.0836369\n",
      "current cost is  28840.0942967\n",
      "current cost is  28839.929323\n",
      "Warning: Maximum number of iterations has been exceeded.\n",
      "         Current function value: 28839.929323\n",
      "         Iterations: 100\n",
      "         Function evaluations: 166\n",
      "         Gradient evaluations: 166\n"
     ]
    }
   ],
   "source": [
    "from scipy.optimize import fmin_cg\n",
    "\n",
    "#now we run the optimizer fmin_cg to minimize the cost function.\n",
    "\n",
    "results = fmin_cg(cost_function_matrix_reshape_J,intial_parameters_unrolled,fprime=cost_function_matrix_reshape_grad,\\\n",
    "                      args=(normY,R,num_users,num_books,num_features,my_lambda), maxiter=100,disp=True,full_output=True)"
   ]
  },
  {
   "cell_type": "markdown",
   "metadata": {},
   "source": [
    "# 3. Looking at the results"
   ]
  },
  {
   "cell_type": "code",
   "execution_count": 41,
   "metadata": {
    "collapsed": false
   },
   "outputs": [
    {
     "name": "stdout",
     "output_type": "stream",
     "text": [
      " my newX (1000, 20)\n",
      "my newTheta  (1270, 20)\n"
     ]
    }
   ],
   "source": [
    "#unroll the results vector back into optimized feature matrices\n",
    "returns = results[0]\n",
    "newX = returns[:(num_books*num_features)]\n",
    "newX = newX.reshape(num_books, num_features)\n",
    "print(' my newX', newX.shape)\n",
    "newTheta = returns[(num_books*num_features):]\n",
    "newTheta = newTheta.reshape(num_users, num_features)\n",
    "print( 'my newTheta ',newTheta.shape)\n",
    "p = np.dot(newX,  newTheta.transpose())"
   ]
  },
  {
   "cell_type": "code",
   "execution_count": 42,
   "metadata": {
    "collapsed": true
   },
   "outputs": [],
   "source": [
    "#add the means back in\n",
    "my_predictions = p[:,0] + themeans\n",
    "#this is where i penalize scores of books that have fewer than the mean number of reviews\n",
    "cut = (thecounts<medcount)\n",
    "\n",
    "# i set it up such that if the book has no reviews, it is assigned a score of 5\n",
    "# if the book has more than the mean number of reviews, it is assigned whatever actual scores it got.\n",
    "# if a book has in between zero and n_mean reviews, it is given a linear combination of  5 and the predicted\n",
    "# score based on the distance to each\n",
    "if (do_penalties):\n",
    "    my_predictions[cut] = ((medcount-thecounts[cut])/medcount) * 5.0 + (thecounts[cut]/medcount)*my_predictions[cut]"
   ]
  },
  {
   "cell_type": "code",
   "execution_count": 43,
   "metadata": {
    "collapsed": false
   },
   "outputs": [
    {
     "name": "stdout",
     "output_type": "stream",
     "text": [
      "Top 20 books to read\n",
      "Book to read:  A Prayer for Owen Meany \n",
      " Predicted score:  9.86794521763\n",
      "Book to read:  The Two Towers (The Lord of the Rings, Part 2) \n",
      " Predicted score:  9.5238345957\n",
      "Book to read:  The Return of the King (The Lord of the Rings, Part 3) \n",
      " Predicted score:  9.31760339969\n",
      "Book to read:  The Amber Spyglass (His Dark Materials, Book 3) \n",
      " Predicted score:  9.18383969247\n",
      "Book to read:  The Murder Book \n",
      " Predicted score:  9.07968606805\n",
      "Book to read:  To Kill a Mockingbird \n",
      " Predicted score:  9.05206777486\n",
      "Book to read:  Griffin &amp; Sabine: An Extraordinary Correspondence \n",
      " Predicted score:  9.03747667456\n",
      "Book to read:  The Secret Garden \n",
      " Predicted score:  9.00014751845\n",
      "Book to read:  Slaughterhouse Five or the Children's Crusade: A Duty Dance With Death \n",
      " Predicted score:  8.92457439239\n",
      "Book to read:  The Stand: Complete and Uncut \n",
      " Predicted score:  8.89811728547\n",
      "Book to read:  Gone with the Wind \n",
      " Predicted score:  8.86537399422\n",
      "Book to read:  The Little Prince \n",
      " Predicted score:  8.86395548885\n",
      "Book to read:  The Green Mile \n",
      " Predicted score:  8.8524415506\n",
      "Book to read:  Anne of Green Gables (Anne of Green Gables Novels (Paperback)) \n",
      " Predicted score:  8.83470252222\n",
      "Book to read:  High Five (A Stephanie Plum Novel) \n",
      " Predicted score:  8.8267454096\n",
      "Book to read:  Holes (Yearling Newbery) \n",
      " Predicted score:  8.78515703928\n",
      "Book to read:  Carrie \n",
      " Predicted score:  8.74042602762\n",
      "Book to read:  Me Talk Pretty One Day \n",
      " Predicted score:  8.73723888719\n",
      "Book to read:  The Pillars of the Earth \n",
      " Predicted score:  8.71899241479\n",
      "Book to read:  One for the Money (A Stephanie Plum Novel) \n",
      " Predicted score:  8.70279656278\n"
     ]
    }
   ],
   "source": [
    "#print top 20 best rated book.\n",
    "fingers = np.argsort(-1*my_predictions)\n",
    "print(\"Top 20 books to read\")\n",
    "\n",
    "for i in range(0, 20):\n",
    "    print ('Book to read: ',titles[fingers][i], '\\n Predicted score: ', my_predictions[fingers][i])"
   ]
  },
  {
   "cell_type": "code",
   "execution_count": 44,
   "metadata": {
    "collapsed": false,
    "scrolled": true
   },
   "outputs": [
    {
     "name": "stdout",
     "output_type": "stream",
     "text": [
      "As a bonus, here are some books you shouldn't bother reading\n",
      "Book not to read:  The Da Vinci Code \n",
      " Predicted score:  2.70306184654\n",
      "Book not to read:  The Nanny Diaries: A Novel \n",
      " Predicted score:  2.82603590119\n",
      "Book not to read:  Angels &amp; Demons \n",
      " Predicted score:  3.45291808629\n",
      "Book not to read:  Four Blondes \n",
      " Predicted score:  4.45014251078\n",
      "Book not to read:  The Pilot's Wife : A Novel \n",
      " Predicted score:  4.73676567614\n",
      "Book not to read:  The Bourne Identity \n",
      " Predicted score:  4.75114716448\n",
      "Book not to read:  Deception Point \n",
      " Predicted score:  4.85121845473\n",
      "Book not to read:  The Little Friend \n",
      " Predicted score:  4.9390474457\n",
      "Book not to read:  Russendisko. \n",
      " Predicted score:  5.06984446429\n",
      "Book not to read:  Free \n",
      " Predicted score:  5.10476968724\n",
      "Book not to read:  The Celestine Prophecy \n",
      " Predicted score:  5.12055488448\n",
      "Book not to read:  The Angel of Darkness \n",
      " Predicted score:  5.22785675743\n",
      "Book not to read:  Stupid White Men. Eine Abrechnung mit dem Amerika unter George W. Bush \n",
      " Predicted score:  5.24646534613\n",
      "Book not to read:  Pagan Babies \n",
      " Predicted score:  5.25091400713\n",
      "Book not to read:  Atlas Shrugged \n",
      " Predicted score:  5.26239867892\n",
      "Book not to read:  Personal Injuries \n",
      " Predicted score:  5.28295836104\n",
      "Book not to read:  Chromosome 6 \n",
      " Predicted score:  5.29749670982\n",
      "Book not to read:  The Shelters of Stone (Earth's Children Series, No 5) \n",
      " Predicted score:  5.30792911119\n",
      "Book not to read:  The Wedding \n",
      " Predicted score:  5.31300509373\n",
      "Book not to read:  Notes From a Small Planet \n",
      " Predicted score:  5.34026326198\n"
     ]
    }
   ],
   "source": [
    "fingers = np.argsort(my_predictions)\n",
    "print(\"As a bonus, here are some books you shouldn't bother reading\")\n",
    "for i in range(0, 20):\n",
    "    print ('Book not to read: ',titles[fingers][i], '\\n Predicted score: ', my_predictions[fingers][i])"
   ]
  },
  {
   "cell_type": "markdown",
   "metadata": {
    "collapsed": true
   },
   "source": [
    "Overall, I am pleased that this algorithm works. It (correctly) recommends books that I have already read and rated highly. If I really only wanted new books to read, I would obviously filter those out, but I kept them in as a sanity check. It recommends more Lord of the Rings book after I said I liked the first one. It also recommends the final His Dark Materials book, after I rated the first two pretty highly.\n",
    "\n",
    "On the other hand, the level of customization is not exactly top-notch.  I have tried it with various inputs, and it tends to always recommend a few specific titles. A Prayer for Owen Meany, Griffin & Sabine, Anne of Green Gables, and The Secret Garden are favorites. I suspect this sort of collaborative filtering is prone to function in this way. Most people only finish reading something that they are already invested in, and would rate highly. I think it's different than the small amount of investment that people would put in for a movie review. For a second pass at this problem, I would probably try association algorithms using decision trees instead of collaborative filtering. \n",
    "\n",
    "Nonetheless, there are probably a few solid recommendations in this list. I am actually pretty intrigued by Griffin & Sabine. This was a fun project! "
   ]
  },
  {
   "cell_type": "markdown",
   "metadata": {
    "collapsed": true
   },
   "source": [
    "   # 4. Evaluating the effectiveness of the project!"
   ]
  },
  {
   "cell_type": "markdown",
   "metadata": {
    "collapsed": true
   },
   "source": [
    "Lets put some more work into this now! I think we can do some interesting things with the data. My first thought on how this should be done is to withhold about 10% of the data from the algorithm, and see how effectively it captures it. \n"
   ]
  },
  {
   "cell_type": "code",
   "execution_count": 809,
   "metadata": {
    "collapsed": false
   },
   "outputs": [
    {
     "name": "stdout",
     "output_type": "stream",
     "text": [
      "(1000, 1269)\n"
     ]
    }
   ],
   "source": [
    "trainY = np.zeros((len(titles), len(book_reviewers)))\n",
    "print(trainY.shape)"
   ]
  },
  {
   "cell_type": "code",
   "execution_count": 810,
   "metadata": {
    "collapsed": false
   },
   "outputs": [],
   "source": [
    "number_of_entries = len(final_further_reduced_catalog)\n",
    "\n",
    "\n",
    "#opening up parameters for exploration\n",
    "num_features = 20 \n",
    "my_lambda = 10"
   ]
  },
  {
   "cell_type": "code",
   "execution_count": 811,
   "metadata": {
    "collapsed": true
   },
   "outputs": [],
   "source": [
    "train_or_test = np.random.rand(number_of_entries)\n"
   ]
  },
  {
   "cell_type": "markdown",
   "metadata": {},
   "source": [
    "For each entry in the final catalog, I generated a random number from 0 to 1. this will be used to determine whether something goes into the training or test set. I create the target review matrix with 90% of the data, and hide the remaining 10% from the algorithm, but store it in a set of arrays for later use. "
   ]
  },
  {
   "cell_type": "code",
   "execution_count": 812,
   "metadata": {
    "collapsed": true
   },
   "outputs": [],
   "source": [
    "count = 0\n",
    "\n",
    "test_title_indeces = []\n",
    "test_user_indeces = []\n",
    "test_scores = []\n",
    "\n",
    "for row in final_further_reduced_catalog.values:\n",
    "    title_index = np.where(titles==row[3])[0][0]\n",
    "    user_index = np.where(book_reviewers==row[0])[0][0]   \n",
    "    if (train_or_test[count]< 0.9):\n",
    "        trainY[title_index][user_index]=row[2]\n",
    "    else:\n",
    "        test_title_indeces.append(title_index)\n",
    "        test_user_indeces.append(user_index)\n",
    "        #have to save the indices so that we know where to look later.\n",
    "        test_scores.append(row[2])\n",
    "    count+=1\n"
   ]
  },
  {
   "cell_type": "code",
   "execution_count": 813,
   "metadata": {
    "collapsed": false
   },
   "outputs": [
    {
     "data": {
      "text/plain": [
       "2889"
      ]
     },
     "execution_count": 813,
     "metadata": {},
     "output_type": "execute_result"
    }
   ],
   "source": [
    "#checking the number of entries that will be used to test the algorithm. \n",
    "num_test_scores = len(test_scores)\n",
    "\n",
    "len(test_scores)\n"
   ]
  },
  {
   "cell_type": "code",
   "execution_count": 814,
   "metadata": {
    "collapsed": true
   },
   "outputs": [],
   "source": [
    "#repeating procedure from before. Using a new set of data structures\n",
    "trainR = trainY>0\n",
    "train_num_users = trainY.shape[1]\n",
    "train_num_books = trainY.shape[0]"
   ]
  },
  {
   "cell_type": "code",
   "execution_count": 815,
   "metadata": {
    "collapsed": false
   },
   "outputs": [
    {
     "name": "stdout",
     "output_type": "stream",
     "text": [
      "mean count  25.804\n"
     ]
    }
   ],
   "source": [
    "# mean for number of reviews is about the same as before. \n",
    "[train_normY, train_themeans,train_thecounts] = normalizeY(trainY)\n",
    "train_medcount = np.mean(train_thecounts)\n",
    "print('mean count ',train_medcount)"
   ]
  },
  {
   "cell_type": "code",
   "execution_count": 816,
   "metadata": {
    "collapsed": false
   },
   "outputs": [
    {
     "name": "stdout",
     "output_type": "stream",
     "text": [
      "(1000, 20)\n",
      "(1269, 20)\n"
     ]
    }
   ],
   "source": [
    "\n",
    "trainX= np.random.randn(train_num_books, num_features)*prefactor\n",
    "trainTheta = np.random.randn(train_num_users, num_features)*prefactor\n",
    "\n",
    "print(trainX.shape)\n",
    "print(trainTheta.shape)\n",
    "\n",
    "#unroll both matrices into a single array to be used by the optimizer\n",
    "intial_parameters_unrolled  = np.append(np.array(trainX).reshape(-1), np.array(trainTheta).reshape(-1))"
   ]
  },
  {
   "cell_type": "code",
   "execution_count": 817,
   "metadata": {
    "collapsed": false
   },
   "outputs": [
    {
     "name": "stdout",
     "output_type": "stream",
     "text": [
      "current cost is  529759.383644\n",
      "current cost is  1.46407195672e+13\n",
      "current cost is  9995028967.95\n",
      "current cost is  4157682.17628\n",
      "current cost is  228133.957013\n",
      "current cost is  347596.934925\n",
      "current cost is  153825.938548\n",
      "current cost is  132297.011468\n",
      "current cost is  94030.7553771\n",
      "current cost is  138254.22477\n",
      "current cost is  81373.8108041\n",
      "current cost is  92771.8552859\n",
      "current cost is  60770.2773328\n",
      "current cost is  61223.0791978\n",
      "current cost is  55300.7249178\n",
      "current cost is  46053.7419266\n",
      "current cost is  39061.0270569\n",
      "current cost is  44344.569975\n",
      "current cost is  33840.9871914\n",
      "current cost is  30953.6468387\n",
      "current cost is  30377.3189457\n",
      "current cost is  30804.3938371\n",
      "current cost is  29075.6132975\n",
      "current cost is  29186.4852455\n",
      "current cost is  28424.4726788\n",
      "current cost is  28150.1267079\n",
      "current cost is  28000.9094503\n",
      "current cost is  27759.0712467\n",
      "current cost is  27700.6853219\n",
      "current cost is  27510.1562347\n",
      "current cost is  27475.4488471\n",
      "current cost is  27323.6829418\n",
      "current cost is  27403.2437624\n",
      "current cost is  27260.8993014\n",
      "current cost is  27181.6128839\n",
      "current cost is  27074.4130538\n",
      "current cost is  27122.7507296\n",
      "current cost is  27030.1069866\n",
      "current cost is  26964.6066276\n",
      "current cost is  26946.4961576\n",
      "current cost is  27101.9776364\n",
      "current cost is  26925.0885169\n",
      "current cost is  26893.1695809\n",
      "current cost is  26883.1080403\n",
      "current cost is  26830.4876729\n",
      "current cost is  26775.4113299\n",
      "current cost is  26802.0422558\n",
      "current cost is  26752.7919665\n",
      "current cost is  26718.2534977\n",
      "current cost is  26706.5109369\n",
      "current cost is  26661.0228952\n",
      "current cost is  26671.0485843\n",
      "current cost is  26639.9141255\n",
      "current cost is  26639.091366\n",
      "current cost is  26629.0968776\n",
      "current cost is  26613.5496417\n",
      "current cost is  26609.9972864\n",
      "current cost is  26588.8235869\n",
      "current cost is  26570.5443606\n",
      "current cost is  26585.4118964\n",
      "current cost is  26563.9367678\n",
      "current cost is  26554.1467256\n",
      "current cost is  26551.381335\n",
      "current cost is  26543.6401675\n",
      "current cost is  26548.2817888\n",
      "current cost is  26540.6137015\n",
      "current cost is  26535.7593639\n",
      "current cost is  26533.204188\n",
      "current cost is  26530.3198566\n",
      "current cost is  26528.5670259\n",
      "current cost is  26524.686278\n",
      "current cost is  26519.5043089\n",
      "current cost is  26514.301592\n",
      "current cost is  26518.4840799\n",
      "current cost is  26512.4229548\n",
      "current cost is  26509.6008681\n",
      "current cost is  26508.7206343\n",
      "current cost is  26503.6853685\n",
      "current cost is  26500.6488285\n",
      "current cost is  26500.0591797\n",
      "current cost is  26498.6912974\n",
      "current cost is  26497.8066158\n",
      "current cost is  26494.2748057\n",
      "current cost is  26492.7344845\n",
      "current cost is  26493.9866513\n",
      "current cost is  26490.4509657\n",
      "current cost is  26486.622337\n",
      "current cost is  26483.6755354\n",
      "current cost is  26487.8107776\n",
      "current cost is  26481.0459685\n",
      "current cost is  26477.389283\n",
      "current cost is  26485.5171201\n",
      "current cost is  26476.5092677\n",
      "current cost is  26475.5560044\n",
      "current cost is  26474.4972079\n",
      "current cost is  26472.993062\n",
      "current cost is  26472.694656\n",
      "current cost is  26470.5131012\n",
      "current cost is  26467.5455296\n",
      "current cost is  26474.4628017\n",
      "current cost is  26466.8500593\n",
      "current cost is  26465.7181235\n",
      "current cost is  26465.0430845\n",
      "current cost is  26467.2077416\n",
      "current cost is  26464.4707217\n",
      "current cost is  26463.708316\n",
      "current cost is  26463.7592415\n",
      "current cost is  26463.3355293\n",
      "current cost is  26462.8656168\n",
      "current cost is  26462.2824902\n",
      "current cost is  26462.1462418\n",
      "current cost is  26461.9494844\n",
      "current cost is  26461.3338147\n",
      "current cost is  26460.0240966\n",
      "current cost is  26457.5014176\n",
      "current cost is  26455.440687\n",
      "current cost is  26457.7218226\n",
      "current cost is  26454.7661564\n",
      "current cost is  26453.6689878\n",
      "current cost is  26453.0142461\n",
      "current cost is  26453.5827722\n",
      "current cost is  26452.2532159\n",
      "current cost is  26451.110665\n",
      "current cost is  26450.7565252\n",
      "current cost is  26449.2703586\n",
      "current cost is  26447.5005878\n",
      "current cost is  26448.2054456\n",
      "current cost is  26446.7539813\n",
      "current cost is  26446.2553241\n",
      "current cost is  26445.6595883\n",
      "current cost is  26444.9524783\n",
      "current cost is  26444.6976805\n",
      "current cost is  26444.5177874\n",
      "current cost is  26444.5563996\n",
      "current cost is  26444.3074507\n",
      "current cost is  26444.0335104\n",
      "current cost is  26443.8655726\n",
      "current cost is  26444.0626842\n",
      "current cost is  26443.8119742\n",
      "current cost is  26443.7177422\n",
      "current cost is  26443.6032172\n",
      "current cost is  26443.5078466\n",
      "current cost is  26443.4669246\n",
      "current cost is  26443.291869\n",
      "current cost is  26443.0576902\n",
      "current cost is  26442.7193971\n",
      "current cost is  26442.6426815\n",
      "current cost is  26442.0777327\n",
      "current cost is  26441.3257728\n",
      "current cost is  26441.3507338\n",
      "current cost is  26440.9521448\n",
      "current cost is  26441.3278083\n",
      "current cost is  26440.8262224\n",
      "current cost is  26440.6353115\n",
      "current cost is  26440.5713052\n",
      "current cost is  26440.3387722\n",
      "current cost is  26440.1167728\n",
      "current cost is  26439.7889872\n",
      "current cost is  26439.7003996\n",
      "current cost is  26439.7110251\n",
      "current cost is  26439.4925868\n",
      "current cost is  26439.1614161\n",
      "current cost is  26438.9965519\n",
      "current cost is  26438.8622375\n",
      "current cost is  26438.7070216\n",
      "current cost is  26438.5357479\n",
      "current cost is  26438.5001842\n",
      "Warning: Maximum number of iterations has been exceeded.\n",
      "         Current function value: 26438.500184\n",
      "         Iterations: 100\n",
      "         Function evaluations: 167\n",
      "         Gradient evaluations: 167\n"
     ]
    }
   ],
   "source": [
    "#train the results\n",
    "train_results = fmin_cg(cost_function_matrix_reshape_J,intial_parameters_unrolled,fprime=cost_function_matrix_reshape_grad,\\\n",
    "                      args=(train_normY,trainR,train_num_users,train_num_books,num_features,my_lambda), maxiter=100,disp=True,full_output=True)"
   ]
  },
  {
   "cell_type": "code",
   "execution_count": 818,
   "metadata": {
    "collapsed": false
   },
   "outputs": [
    {
     "name": "stdout",
     "output_type": "stream",
     "text": [
      " my train_newX (1000, 20)\n",
      "my train_newTheta  (1269, 20)\n"
     ]
    },
    {
     "data": {
      "text/plain": [
       "(1000, 1269)"
      ]
     },
     "execution_count": 818,
     "metadata": {},
     "output_type": "execute_result"
    }
   ],
   "source": [
    "#unroll results\n",
    "train_returns = train_results[0]\n",
    "train_newX = train_returns[:(train_num_books*num_features)]\n",
    "train_newX = train_newX.reshape(train_num_books, num_features)\n",
    "print(' my train_newX', train_newX.shape)\n",
    "train_newTheta = train_returns[(train_num_books*num_features):]\n",
    "train_newTheta = train_newTheta.reshape(train_num_users, num_features)\n",
    "print( 'my train_newTheta ',train_newTheta.shape)\n",
    "train_p = np.dot(train_newX,  train_newTheta.transpose())\n",
    "train_p.shape"
   ]
  },
  {
   "cell_type": "markdown",
   "metadata": {},
   "source": [
    "Now, to evaluate how well the algorithm did compared to a \"null method\" - assigning the mean score to every user. Since we don't really care about minor nudges in either direction, how about checking for shifts greater than 1 point on the 10 point scale. We count up how many times the algorithm predicted scores was closer to the actual score than the mean score would've been. \"Good Scores\" represent times when the algorithm did a beter job. \"Bad Scores\" When we may as well have just used the mean score for the book."
   ]
  },
  {
   "cell_type": "code",
   "execution_count": 819,
   "metadata": {
    "collapsed": false
   },
   "outputs": [],
   "source": [
    "#how accurate was the matrix that was trained with 90% of the data at guessing the remaining 10%? \n",
    "good_count = 0\n",
    "bad_count = 0\n",
    "for i in range(0,num_test_scores):\n",
    "    #trained_score = train_p[test_title_indeces[i],test_user_indeces[i]] + themeans[test_title_indeces[i]]\n",
    "    trained_adjustment = train_p[test_title_indeces[i],test_user_indeces[i]]\n",
    "    mean_for_book =  train_themeans[test_title_indeces[i]]\n",
    "    trained_score = trained_adjustment+mean_for_book\n",
    "    if (abs(trained_adjustment) > 1): \n",
    "        #print(\"entry \", i,\": the real score was \", test_scores[i],\" trained score \",trained_score)\n",
    "        #print(\"mean was \", mean_for_book,\" adjustment \",trained_adjustment)\n",
    "        distance = abs( test_scores[i] - trained_score)\n",
    "        dist_to_mean = abs(test_scores[i] -mean_for_book )\n",
    "        if (distance < dist_to_mean):\n",
    "            good_count+=1\n",
    "        else:\n",
    "            bad_count+=1\n",
    "        \n"
   ]
  },
  {
   "cell_type": "code",
   "execution_count": 820,
   "metadata": {
    "collapsed": false
   },
   "outputs": [
    {
     "data": {
      "text/plain": [
       "145"
      ]
     },
     "execution_count": 820,
     "metadata": {},
     "output_type": "execute_result"
    }
   ],
   "source": [
    "good_count"
   ]
  },
  {
   "cell_type": "code",
   "execution_count": 821,
   "metadata": {
    "collapsed": false
   },
   "outputs": [
    {
     "data": {
      "text/plain": [
       "44"
      ]
     },
     "execution_count": 821,
     "metadata": {},
     "output_type": "execute_result"
    }
   ],
   "source": [
    "bad_count"
   ]
  },
  {
   "cell_type": "code",
   "execution_count": 822,
   "metadata": {
    "collapsed": false
   },
   "outputs": [],
   "source": [
    "fraction_of_good_adjustments = (good_count)/(good_count+bad_count)"
   ]
  },
  {
   "cell_type": "code",
   "execution_count": 823,
   "metadata": {
    "collapsed": false
   },
   "outputs": [
    {
     "data": {
      "text/plain": [
       "0.7671957671957672"
      ]
     },
     "execution_count": 823,
     "metadata": {},
     "output_type": "execute_result"
    }
   ],
   "source": [
    "fraction_of_good_adjustments"
   ]
  },
  {
   "cell_type": "markdown",
   "metadata": {},
   "source": [
    "Hey not bad! My algorithm does better than the mean score more than 70% of the time! That is actually better than I was expecting. Not amazing but it is pretty good. \n",
    "\n",
    "I have tried playing with some of the parameters for the fitting - namely num_features and my_lambda to see if i can do better.\n",
    "\n",
    "High values of my_lambda (20 or more) can actually improve performance above 80%, but in exchange for making significantly fewer recommendations (good_count < 50). \n",
    "\n",
    "Low values of  my_lambda (5 or less) weakens the algorithm a lot too (about 50%). Same with num_features (3 or less) \n",
    "\n",
    "high values of num_features (100) appear to improve performacne slightly, but not significantly enough to convince me it matters too much, and the cost of computation becomes higher. \n",
    "\n",
    "\n",
    "\n",
    "\n",
    "One last check. Lets see how this same test works if the algorithm is trained with 100% of the same data. "
   ]
  },
  {
   "cell_type": "code",
   "execution_count": 824,
   "metadata": {
    "collapsed": true
   },
   "outputs": [],
   "source": [
    "#using matrix that was actually trained with 100% of the data. \n",
    "good_count = 0\n",
    "bad_count = 0\n",
    "for i in range(0,num_test_scores):\n",
    "    #trained_score = train_p[test_title_indeces[i],test_user_indeces[i]] + themeans[test_title_indeces[i]]\n",
    "    trained_adjustment = p[test_title_indeces[i],test_user_indeces[i]+1]\n",
    "    mean_for_book =  train_themeans[test_title_indeces[i]]\n",
    "    trained_score = trained_adjustment+mean_for_book\n",
    "    if (abs(trained_adjustment) > 1): \n",
    "        #print(\"entry \", i,\": the real score was \", test_scores[i],\" trained score \",trained_score)\n",
    "        #print(\"mean was \", mean_for_book,\" adjustment \",trained_adjustment)\n",
    "        distance = abs( test_scores[i] - trained_score)\n",
    "        dist_to_mean = abs(test_scores[i] -mean_for_book )\n",
    "        if (distance < dist_to_mean):\n",
    "            good_count+=1\n",
    "        else:\n",
    "            bad_count+=1"
   ]
  },
  {
   "cell_type": "code",
   "execution_count": 825,
   "metadata": {
    "collapsed": true
   },
   "outputs": [],
   "source": [
    "fraction_of_good_adjustments = (good_count)/(good_count+bad_count)"
   ]
  },
  {
   "cell_type": "code",
   "execution_count": 826,
   "metadata": {
    "collapsed": false
   },
   "outputs": [
    {
     "data": {
      "text/plain": [
       "0.9816700610997964"
      ]
     },
     "execution_count": 826,
     "metadata": {},
     "output_type": "execute_result"
    }
   ],
   "source": [
    "fraction_of_good_adjustments"
   ]
  },
  {
   "cell_type": "markdown",
   "metadata": {
    "collapsed": true
   },
   "source": [
    "Well hey it works really well! I guess this goes to show that this methodology really does fit the data quite well. Sadly, the predictive power is significantly diminished if we hide even 10% of the data away from it. "
   ]
  },
  {
   "cell_type": "markdown",
   "metadata": {},
   "source": [
    "# Visualizing The Data"
   ]
  },
  {
   "cell_type": "markdown",
   "metadata": {},
   "source": [
    "The product of the recommender system is recommendations. Visualizing this data isn't exactly the most exciting thing. However, we can look at the intermediate product - the features that the algorithm decided to segregate books and users by. \n",
    "\n",
    "First, let's take a look at the top 10 most read books, and see what their feature space looks like"
   ]
  },
  {
   "cell_type": "code",
   "execution_count": 835,
   "metadata": {
    "collapsed": false
   },
   "outputs": [
    {
     "data": {
      "text/plain": [
       "(10, 20)"
      ]
     },
     "execution_count": 835,
     "metadata": {},
     "output_type": "execute_result"
    }
   ],
   "source": [
    "ReducedX = newX[0:10]\n",
    "ReducedX.shape"
   ]
  },
  {
   "cell_type": "code",
   "execution_count": 847,
   "metadata": {
    "collapsed": false
   },
   "outputs": [
    {
     "data": {
      "text/plain": [
       "array(['The Lovely Bones: A Novel', 'Wild Animus', 'The Da Vinci Code',\n",
       "       'The Secret Life of Bees', 'The Nanny Diaries: A Novel',\n",
       "       'The Red Tent (Bestselling Backlist)', \"Bridget Jones's Diary\",\n",
       "       'A Painted House', 'Life of Pi',\n",
       "       'Harry Potter and the Chamber of Secrets (Book 2)'], dtype=object)"
      ]
     },
     "execution_count": 847,
     "metadata": {},
     "output_type": "execute_result"
    }
   ],
   "source": [
    "titles[0:10]"
   ]
  },
  {
   "cell_type": "code",
   "execution_count": 836,
   "metadata": {
    "collapsed": true
   },
   "outputs": [],
   "source": [
    "%matplotlib inline\n",
    "import matplotlib.pyplot as plt\n"
   ]
  },
  {
   "cell_type": "code",
   "execution_count": 904,
   "metadata": {
    "collapsed": false
   },
   "outputs": [
    {
     "data": {
      "text/plain": [
       "<matplotlib.colorbar.Colorbar at 0x1b9878fc278>"
      ]
     },
     "execution_count": 904,
     "metadata": {},
     "output_type": "execute_result"
    },
    {
     "data": {
      "image/png": "[encoded data removed]",
      "text/plain": [
       "<matplotlib.figure.Figure at 0x1b9810f1b70>"
      ]
     },
     "metadata": {},
     "output_type": "display_data"
    }
   ],
   "source": [
    "fig1 = plt.figure(figsize=(10,6))\n",
    "fig1a = plt.imshow(ReducedX, cmap=plt.cm.coolwarm, interpolation='none')\n",
    "plt.xlabel('feature #')\n",
    "#plt.ylabel(\"book\")\n",
    "bookpos = np.arange(10)\n",
    "plt.yticks(bookpos, titles[0:10])\n",
    "plt.colorbar(fig1a, label='feature weight')\n"
   ]
  },
  {
   "cell_type": "markdown",
   "metadata": {},
   "source": [
    "Pretty interesting. The top 10 books all look pretty different in feature space fo the most part. There do appear to be some features which the top books seem to have predominantly positive or negative entries in. It is pretty hard to interpret the meaning of the features. For example, Da Vinci code has very high values for features #1 and #16. Bridget jones diary also has a high value in #16 and a particularly low value in #1. What does this mean? Who knows, it's hard to find a thematic pattern in the features. I was hoping it could be straightfowardly thematic elements like \"Fantasy\" or \"History\" but the reality is much less clear and more complicated. \n",
    "\n",
    "OK but to be fair, I haven't read any of those books except Harry Potter. Lets see what a set of books that I actually like have more information in their features."
   ]
  },
  {
   "cell_type": "code",
   "execution_count": 907,
   "metadata": {
    "collapsed": false
   },
   "outputs": [],
   "source": [
    "my_fav_books = my_ratings > 7"
   ]
  },
  {
   "cell_type": "code",
   "execution_count": 909,
   "metadata": {
    "collapsed": false
   },
   "outputs": [],
   "source": [
    "favX  = X[my_fav_books]"
   ]
  },
  {
   "cell_type": "code",
   "execution_count": 912,
   "metadata": {
    "collapsed": false
   },
   "outputs": [
    {
     "data": {
      "text/plain": [
       "<matplotlib.colorbar.Colorbar at 0x1b987a13a90>"
      ]
     },
     "execution_count": 912,
     "metadata": {},
     "output_type": "execute_result"
    },
    {
     "data": {
      "image/png": "[encoded data removed]",
      "text/plain": [
       "<matplotlib.figure.Figure at 0x1b9871921d0>"
      ]
     },
     "metadata": {},
     "output_type": "display_data"
    }
   ],
   "source": [
    "fig2 = plt.figure(figsize=(10,6))\n",
    "fig2a = plt.imshow(favX, cmap=plt.cm.coolwarm, interpolation='none')\n",
    "plt.xlabel('feature #')\n",
    "#plt.ylabel(\"book\")\n",
    "bookpos = np.arange(13)\n",
    "plt.yticks(bookpos, titles[my_fav_books])\n",
    "plt.colorbar(fig1a, label='feature weight')"
   ]
  },
  {
   "cell_type": "markdown",
   "metadata": {},
   "source": [
    "Still hard to see patterns here. Books by the same author like Kurt Vonnegut's Cat's Cradle and Slaughterhouse Five don't really seem to correlate with each other much in terms of features. Same with George Orwell's 1984 and Animal Farm At least it's hard to see visually. Maybe 20 features is too many to see patterns easily. \n",
    "\n",
    "What about a pattern in my top unique recommendations from the algorithm? "
   ]
  },
  {
   "cell_type": "code",
   "execution_count": 913,
   "metadata": {
    "collapsed": true
   },
   "outputs": [],
   "source": [
    "my_top_picks =  p[:,0]"
   ]
  },
  {
   "cell_type": "code",
   "execution_count": 914,
   "metadata": {
    "collapsed": true
   },
   "outputs": [],
   "source": [
    "pickorder = np.argsort(-my_top_picks)"
   ]
  },
  {
   "cell_type": "code",
   "execution_count": 916,
   "metadata": {
    "collapsed": true
   },
   "outputs": [],
   "source": [
    "recX = X[pickorder]\n",
    "reduced_recX = recX[0:10]"
   ]
  },
  {
   "cell_type": "code",
   "execution_count": 917,
   "metadata": {
    "collapsed": false
   },
   "outputs": [
    {
     "data": {
      "text/plain": [
       "<matplotlib.colorbar.Colorbar at 0x1b98891f780>"
      ]
     },
     "execution_count": 917,
     "metadata": {},
     "output_type": "execute_result"
    },
    {
     "data": {
      "image/png": "[encoded data removed]",
      "text/plain": [
       "<matplotlib.figure.Figure at 0x1b9879b9d68>"
      ]
     },
     "metadata": {},
     "output_type": "display_data"
    }
   ],
   "source": [
    "fig3 = plt.figure(figsize=(10,6))\n",
    "fig3a = plt.imshow(reduced_recX, cmap=plt.cm.coolwarm, interpolation='none')\n",
    "plt.xlabel('feature #')\n",
    "#plt.ylabel(\"book\")\n",
    "bookpos = np.arange(10)\n",
    "plt.yticks(bookpos, titles[pickorder][0:10])\n",
    "plt.colorbar(fig1a, label='feature weight')"
   ]
  },
  {
   "cell_type": "markdown",
   "metadata": {},
   "source": [
    "Maybe there's a pattern in here somewhere, but I still can't really see it. \n",
    "\n",
    "One last check, let me plot the features that the algorithm assigned to me as a user, and see how it looks compared to each of these titles. "
   ]
  },
  {
   "cell_type": "code",
   "execution_count": 924,
   "metadata": {
    "collapsed": false
   },
   "outputs": [
    {
     "data": {
      "text/plain": [
       "array([ 0.03090376, -0.53602673, -0.48591556, -1.04667394, -0.12477943,\n",
       "        0.46179444, -0.79049556, -0.09169746,  0.36397895,  0.22717406,\n",
       "        0.51502691, -0.02413212, -0.21085675, -0.20451521, -0.60992359,\n",
       "        0.60958186, -0.92578211,  0.90707922,  0.07048949,  0.93125688])"
      ]
     },
     "execution_count": 924,
     "metadata": {},
     "output_type": "execute_result"
    }
   ],
   "source": [
    "my_features = newTheta[0]\n",
    "my_features"
   ]
  },
  {
   "cell_type": "code",
   "execution_count": 934,
   "metadata": {
    "collapsed": false
   },
   "outputs": [
    {
     "data": {
      "text/plain": [
       "<matplotlib.colorbar.Colorbar at 0x1b9894c15c0>"
      ]
     },
     "execution_count": 934,
     "metadata": {},
     "output_type": "execute_result"
    },
    {
     "data": {
      "image/png": "[encoded data removed]",
      "text/plain": [
       "<matplotlib.figure.Figure at 0x1b9893eeef0>"
      ]
     },
     "metadata": {},
     "output_type": "display_data"
    }
   ],
   "source": [
    "fig3 = plt.figure(figsize=(10,6))\n",
    "fig3a = plt.imshow(np.vstack([reduced_recX,my_features]), cmap=plt.cm.coolwarm, interpolation='none')\n",
    "plt.xlabel('feature #')\n",
    "#plt.ylabel(\"book\")\n",
    "bookpos = np.arange(11)\n",
    "plt.yticks(bookpos, np.append(titles[pickorder][0:10],[\"My Features\"]))\n",
    "plt.colorbar(fig1a, label='feature weight')"
   ]
  },
  {
   "cell_type": "code",
   "execution_count": 933,
   "metadata": {
    "collapsed": false
   },
   "outputs": [
    {
     "data": {
      "text/plain": [
       "<matplotlib.colorbar.Colorbar at 0x1b9893a94e0>"
      ]
     },
     "execution_count": 933,
     "metadata": {},
     "output_type": "execute_result"
    },
    {
     "data": {
      "image/png": "[encoded data removed]",
      "text/plain": [
       "<matplotlib.figure.Figure at 0x1b989191470>"
      ]
     },
     "metadata": {},
     "output_type": "display_data"
    }
   ],
   "source": [
    "fig2 = plt.figure(figsize=(10,6))\n",
    "fig2a = plt.imshow(np.vstack([favX,my_features]), cmap=plt.cm.coolwarm, interpolation='none')\n",
    "plt.xlabel('feature #')\n",
    "#plt.ylabel(\"book\")\n",
    "bookpos = np.arange(14)\n",
    "plt.yticks(bookpos, np.append(titles[my_fav_books],[\"My Features\"]))\n",
    "plt.colorbar(fig1a, label='feature weight')"
   ]
  },
  {
   "cell_type": "markdown",
   "metadata": {},
   "source": [
    "It is still very difficult to see patterns in these features! I guess this tells me that the features that the computer picks out cannot be thought of as \"categories\" in the traditional sense. \n",
    "\n",
    "For whatever reason, the data provided by the reviewing users doesn't lend itself to grouping books by content-based categories. \n",
    "\n",
    "Collaborative filtering is specifically designed to optimize parameters to fit numerical ratings. It couldn't care less what we humans think the book belongs in. \n",
    "\n",
    "In this way it is a more \"pure\" algorithm than content-based filtering or association. "
   ]
  },
  {
   "cell_type": "code",
   "execution_count": null,
   "metadata": {
    "collapsed": true
   },
   "outputs": [],
   "source": []
  }
 ],
 "metadata": {
  "kernelspec": {
   "display_name": "Python [Root]",
   "language": "python",
   "name": "Python [Root]"
  },
  "language_info": {
   "codemirror_mode": {
    "name": "ipython",
    "version": 3
   },
   "file_extension": ".py",
   "mimetype": "text/x-python",
   "name": "python",
   "nbconvert_exporter": "python",
   "pygments_lexer": "ipython3",
   "version": "3.5.2"
  }
 },
 "nbformat": 4,
 "nbformat_minor": 0
}
